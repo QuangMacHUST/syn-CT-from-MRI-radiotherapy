{
 "cells": [
  {
   "cell_type": "markdown",
   "metadata": {},
   "source": "# H\u01b0\u1edbng d\u1eabn chuy\u1ec3n \u0111\u1ed5i MRI sang CT t\u1ed5ng h\u1ee3p\n\nNotebook n\u00e0y h\u01b0\u1edbng d\u1eabn c\u00e1ch s\u1eed d\u1ee5ng m\u00f4 h\u00ecnh CycleGAN \u0111\u00e3 \u0111\u01b0\u1ee3c hu\u1ea5n luy\u1ec7n \u0111\u1ec3 chuy\u1ec3n \u0111\u1ed5i \u1ea3nh MRI sang \u1ea3nh CT t\u1ed5ng h\u1ee3p cho m\u1ee5c \u0111\u00edch x\u1ea1 tr\u1ecb."
  },
  {
   "cell_type": "markdown",
   "metadata": {},
   "source": "## N\u1ed9i dung\n1. Thi\u1ebft l\u1eadp m\u00f4i tr\u01b0\u1eddng\n2. T\u1ea3i m\u00f4 h\u00ecnh \u0111\u00e3 hu\u1ea5n luy\u1ec7n\n3. Chu\u1ea9n b\u1ecb d\u1eef li\u1ec7u MRI\n4. Chuy\u1ec3n \u0111\u1ed5i MRI sang CT t\u1ed5ng h\u1ee3p\n5. Hi\u1ec3n th\u1ecb k\u1ebft qu\u1ea3\n6. Ph\u00e2n \u0111o\u1ea1n m\u00f4 d\u1ef1a tr\u00ean \u0111\u01a1n v\u1ecb Hounsfield (HU)\n7. L\u01b0u k\u1ebft qu\u1ea3\n8. \u0110\u00e1nh gi\u00e1 ch\u1ea5t l\u01b0\u1ee3ng chuy\u1ec3n \u0111\u1ed5i (t\u00f9y ch\u1ecdn)"
  },
  {
   "cell_type": "markdown",
   "metadata": {},
   "source": "## 1. Thi\u1ebft l\u1eadp m\u00f4i tr\u01b0\u1eddng\n\n\u0110\u1ea7u ti\u00ean, ch\u00fang ta c\u1ea7n c\u00e0i \u0111\u1eb7t v\u00e0 nh\u1eadp c\u00e1c th\u01b0 vi\u1ec7n c\u1ea7n thi\u1ebft."
  },
  {
   "cell_type": "code",
   "metadata": {},
   "source": "# C\u00e0i \u0111\u1eb7t c\u00e1c th\u01b0 vi\u1ec7n c\u1ea7n thi\u1ebft (n\u1ebfu ch\u01b0a c\u00f3)\n# !pip install torch torchvision numpy matplotlib pydicom nibabel SimpleITK scikit-image pyyaml\n\nimport os\nimport sys\nimport yaml\nimport numpy as np\nimport matplotlib.pyplot as plt\nimport torch\nfrom pathlib import Path\n\n# Th\u00eam th\u01b0 m\u1ee5c g\u1ed1c v\u00e0o \u0111\u01b0\u1eddng d\u1eabn \u0111\u1ec3 c\u00f3 th\u1ec3 nh\u1eadp c\u00e1c module\nsys.path.append('..')\n\n# Nh\u1eadp c\u00e1c module c\u1ea7n thi\u1ebft t\u1eeb d\u1ef1 \u00e1n\nfrom models.cycle_gan import CycleGANModel\nfrom utils.data_utils import load_dicom_series, save_dicom_series, normalize_image\nfrom utils.visualization import display_slices, compare_images\nfrom utils.config import load_config\n\n# Ki\u1ec3m tra GPU\ndevice = torch.device('cuda' if torch.cuda.is_available() else 'cpu')\nprint(f\"S\u1eed d\u1ee5ng thi\u1ebft b\u1ecb: {device}\")",
   "execution_count": null,
   "outputs": []
  },
  {
   "cell_type": "markdown",
   "metadata": {},
   "source": "## 2. T\u1ea3i c\u1ea5u h\u00ecnh v\u00e0 m\u00f4 h\u00ecnh \u0111\u00e3 hu\u1ea5n luy\u1ec7n\n\nTi\u1ebfp theo, ch\u00fang ta s\u1ebd t\u1ea3i c\u1ea5u h\u00ecnh v\u00e0 m\u00f4 h\u00ecnh CycleGAN \u0111\u00e3 \u0111\u01b0\u1ee3c hu\u1ea5n luy\u1ec7n."
  },
  {
   "cell_type": "code",
   "metadata": {},
   "source": "# T\u1ea3i c\u1ea5u h\u00ecnh\nconfig_path = '../configs/default.yaml'\nconfig = load_config(config_path)\n\n# \u0110\u01b0\u1eddng d\u1eabn \u0111\u1ebfn checkpoint m\u00f4 h\u00ecnh\ncheckpoint_path = '../data/output/models/checkpoints/best_model.pth'\n\n# Kh\u1edfi t\u1ea1o m\u00f4 h\u00ecnh\nmodel = CycleGANModel(\n    input_channels=config['model']['input_channels'],\n    output_channels=config['model']['output_channels'],\n    generator_filters=config['model']['generator_filters'],\n    discriminator_filters=config['model']['discriminator_filters'],\n    n_residual_blocks=config['model']['n_residual_blocks']\n)\n\n# T\u1ea3i tr\u1ecdng s\u1ed1 m\u00f4 h\u00ecnh\nif os.path.exists(checkpoint_path):\n    checkpoint = torch.load(checkpoint_path, map_location=device)\n    model.load_state_dict(checkpoint['model_state_dict'])\n    print(f\"\u0110\u00e3 t\u1ea3i m\u00f4 h\u00ecnh t\u1eeb epoch {checkpoint['epoch']}\")\nelse:\n    print(f\"Kh\u00f4ng t\u00ecm th\u1ea5y checkpoint t\u1ea1i {checkpoint_path}\")\n    print(\"Vui l\u00f2ng hu\u1ea5n luy\u1ec7n m\u00f4 h\u00ecnh tr\u01b0\u1edbc ho\u1eb7c t\u1ea3i m\u00f4 h\u00ecnh \u0111\u00e3 hu\u1ea5n luy\u1ec7n\")\n\nmodel.to(device)\nmodel.eval()  # \u0110\u1eb7t m\u00f4 h\u00ecnh \u1edf ch\u1ebf \u0111\u1ed9 \u0111\u00e1nh gi\u00e1",
   "execution_count": null,
   "outputs": []
  },
  {
   "cell_type": "markdown",
   "metadata": {},
   "source": "## 3. Chu\u1ea9n b\u1ecb d\u1eef li\u1ec7u MRI\n\nB\u00e2y gi\u1edd ch\u00fang ta s\u1ebd t\u1ea3i v\u00e0 chu\u1ea9n b\u1ecb d\u1eef li\u1ec7u MRI \u0111\u1ec3 chuy\u1ec3n \u0111\u1ed5i."
  },
  {
   "cell_type": "code",
   "metadata": {},
   "source": "# \u0110\u01b0\u1eddng d\u1eabn \u0111\u1ebfn th\u01b0 m\u1ee5c ch\u1ee9a \u1ea3nh MRI DICOM\nmri_dir = '../data/test/mri'\n\n# T\u1ea3i d\u1eef li\u1ec7u MRI\nmri_volume, mri_metadata = load_dicom_series(mri_dir)\nprint(f\"K\u00edch th\u01b0\u1edbc kh\u1ed1i MRI: {mri_volume.shape}\")\n\n# Chu\u1ea9n h\u00f3a d\u1eef li\u1ec7u MRI\nmri_normalized = normalize_image(mri_volume)\n\n# Hi\u1ec3n th\u1ecb m\u1ed9t s\u1ed1 l\u00e1t c\u1eaft MRI\nmiddle_slice = mri_volume.shape[0] // 2\ndisplay_slices(mri_normalized, start_slice=middle_slice-5, end_slice=middle_slice+6, step=2, \n               title=\"L\u00e1t c\u1eaft MRI\", cmap=\"gray\")",
   "execution_count": null,
   "outputs": []
  },
  {
   "cell_type": "markdown",
   "metadata": {},
   "source": "## 4. Chuy\u1ec3n \u0111\u1ed5i MRI sang CT t\u1ed5ng h\u1ee3p\n\nS\u1eed d\u1ee5ng m\u00f4 h\u00ecnh CycleGAN \u0111\u1ec3 chuy\u1ec3n \u0111\u1ed5i \u1ea3nh MRI sang \u1ea3nh CT t\u1ed5ng h\u1ee3p."
  },
  {
   "cell_type": "code",
   "metadata": {},
   "source": "# H\u00e0m \u0111\u1ec3 x\u1eed l\u00fd t\u1eebng l\u00e1t c\u1eaft v\u00e0 t\u1ea1o CT t\u1ed5ng h\u1ee3p\ndef generate_synthetic_ct(mri_volume, model, device, batch_size=4):\n    model.eval()\n    synthetic_ct = np.zeros_like(mri_volume)\n    \n    with torch.no_grad():\n        for i in range(0, mri_volume.shape[0], batch_size):\n            batch_end = min(i + batch_size, mri_volume.shape[0])\n            batch = mri_volume[i:batch_end]\n            \n            # Chuy\u1ec3n \u0111\u1ed5i sang tensor v\u00e0 th\u00eam k\u00eanh\n            batch_tensor = torch.from_numpy(batch).float().unsqueeze(1).to(device)\n            \n            # T\u1ea1o CT t\u1ed5ng h\u1ee3p\n            synthetic_batch = model.generator_MRI_to_CT(batch_tensor)\n            \n            # Chuy\u1ec3n v\u1ec1 numpy v\u00e0 lo\u1ea1i b\u1ecf k\u00eanh\n            synthetic_batch = synthetic_batch.cpu().numpy().squeeze(1)\n            synthetic_ct[i:batch_end] = synthetic_batch\n            \n            print(f\"\u0110\u00e3 x\u1eed l\u00fd {batch_end}/{mri_volume.shape[0]} l\u00e1t c\u1eaft\", end='\\r')\n    \n    print(f\"\\n\u0110\u00e3 ho\u00e0n th\u00e0nh chuy\u1ec3n \u0111\u1ed5i {mri_volume.shape[0]} l\u00e1t c\u1eaft MRI sang CT t\u1ed5ng h\u1ee3p\")\n    return synthetic_ct\n\n# T\u1ea1o CT t\u1ed5ng h\u1ee3p t\u1eeb MRI\nsynthetic_ct = generate_synthetic_ct(mri_normalized, model, device)\n\n# Chuy\u1ec3n \u0111\u1ed5i gi\u00e1 tr\u1ecb pixel sang \u0111\u01a1n v\u1ecb Hounsfield (HU)\n# Gi\u1ea3 s\u1eed m\u00f4 h\u00ecnh t\u1ea1o ra gi\u00e1 tr\u1ecb trong kho\u1ea3ng [-1, 1] c\u1ea7n \u0111\u01b0\u1ee3c \u00e1nh x\u1ea1 sang kho\u1ea3ng HU th\u00edch h\u1ee3p\nhu_min, hu_max = -1000, 3000  # Kho\u1ea3ng HU \u0111i\u1ec3n h\u00ecnh\nsynthetic_ct_hu = (synthetic_ct + 1) / 2 * (hu_max - hu_min) + hu_min",
   "execution_count": null,
   "outputs": []
  },
  {
   "cell_type": "markdown",
   "metadata": {},
   "source": "## 5. Hi\u1ec3n th\u1ecb k\u1ebft qu\u1ea3\n\nSo s\u00e1nh \u1ea3nh MRI g\u1ed1c v\u1edbi \u1ea3nh CT t\u1ed5ng h\u1ee3p."
  },
  {
   "cell_type": "code",
   "metadata": {},
   "source": "# Hi\u1ec3n th\u1ecb m\u1ed9t s\u1ed1 l\u00e1t c\u1eaft CT t\u1ed5ng h\u1ee3p\nmiddle_slice = synthetic_ct_hu.shape[0] // 2\ndisplay_slices(synthetic_ct_hu, start_slice=middle_slice-5, end_slice=middle_slice+6, step=2, \n               title=\"L\u00e1t c\u1eaft CT t\u1ed5ng h\u1ee3p\", cmap=\"gray\", vmin=-200, vmax=400)\n\n# So s\u00e1nh MRI v\u00e0 CT t\u1ed5ng h\u1ee3p\nfor slice_idx in range(middle_slice-4, middle_slice+5, 2):\n    compare_images(\n        mri_normalized[slice_idx], synthetic_ct_hu[slice_idx],\n        titles=[f\"MRI (l\u00e1t c\u1eaft {slice_idx})\", f\"CT t\u1ed5ng h\u1ee3p (l\u00e1t c\u1eaft {slice_idx})\"],\n        cmaps=[\"gray\", \"gray\"],\n        vmin_vmax=[(None, None), (-200, 400)]\n    )",
   "execution_count": null,
   "outputs": []
  },
  {
   "cell_type": "markdown",
   "metadata": {},
   "source": "## 6. Ph\u00e2n \u0111o\u1ea1n m\u00f4 d\u1ef1a tr\u00ean \u0111\u01a1n v\u1ecb Hounsfield (HU)\n\nPh\u00e2n \u0111o\u1ea1n c\u00e1c lo\u1ea1i m\u00f4 kh\u00e1c nhau d\u1ef1a tr\u00ean gi\u00e1 tr\u1ecb HU c\u1ee7a ch\u00fang."
  },
  {
   "cell_type": "code",
   "metadata": {},
   "source": "# \u0110\u1ecbnh ngh\u0129a c\u00e1c kho\u1ea3ng HU cho c\u00e1c lo\u1ea1i m\u00f4 kh\u00e1c nhau\ntissue_ranges = {\n    'Kh\u00f4ng kh\u00ed': (-1000, -950),\n    'Ph\u1ed5i': (-950, -700),\n    'M\u1ee1': (-700, -100),\n    'N\u01b0\u1edbc/M\u00f4 m\u1ec1m': (-100, 100),\n    'X\u01b0\u01a1ng': (100, 3000)\n}\n\n# T\u1ea1o m\u1eb7t n\u1ea1 cho t\u1eebng lo\u1ea1i m\u00f4\ntissue_masks = {}\nfor tissue, (min_hu, max_hu) in tissue_ranges.items():\n    mask = (synthetic_ct_hu >= min_hu) & (synthetic_ct_hu < max_hu)\n    tissue_masks[tissue] = mask\n\n# Hi\u1ec3n th\u1ecb ph\u00e2n \u0111o\u1ea1n m\u00f4 cho m\u1ed9t l\u00e1t c\u1eaft\ndef display_tissue_segmentation(ct_slice, masks, slice_idx):\n    fig, axes = plt.subplots(2, 3, figsize=(15, 10))\n    axes = axes.flatten()\n    \n    # Hi\u1ec3n th\u1ecb CT g\u1ed1c\n    axes[0].imshow(ct_slice, cmap='gray', vmin=-200, vmax=400)\n    axes[0].set_title(f\"CT t\u1ed5ng h\u1ee3p (l\u00e1t c\u1eaft {slice_idx})\")\n    axes[0].axis('off')\n    \n    # Hi\u1ec3n th\u1ecb t\u1eebng lo\u1ea1i m\u00f4\n    for i, (tissue, mask) in enumerate(masks.items(), 1):\n        if i < len(axes):\n            axes[i].imshow(mask[slice_idx], cmap='viridis')\n            axes[i].set_title(f\"{tissue}\")\n            axes[i].axis('off')\n    \n    plt.tight_layout()\n    plt.show()\n\n# Hi\u1ec3n th\u1ecb ph\u00e2n \u0111o\u1ea1n m\u00f4 cho l\u00e1t c\u1eaft gi\u1eefa\ndisplay_tissue_segmentation(synthetic_ct_hu[middle_slice], tissue_masks, middle_slice)",
   "execution_count": null,
   "outputs": []
  },
  {
   "cell_type": "markdown",
   "metadata": {},
   "source": "## 7. L\u01b0u k\u1ebft qu\u1ea3\n\nL\u01b0u \u1ea3nh CT t\u1ed5ng h\u1ee3p d\u01b0\u1edbi d\u1ea1ng t\u1ec7p DICOM."
  },
  {
   "cell_type": "code",
   "metadata": {},
   "source": "# T\u1ea1o th\u01b0 m\u1ee5c \u0111\u1ea7u ra\noutput_dir = '../data/output/notebook_demo'\nos.makedirs(output_dir, exist_ok=True)\n\n# L\u01b0u CT t\u1ed5ng h\u1ee3p d\u01b0\u1edbi d\u1ea1ng t\u1ec7p DICOM\nsave_dicom_series(\n    synthetic_ct_hu,\n    output_dir,\n    reference_metadata=mri_metadata,\n    modality='CT',\n    series_description='Synthetic CT from MRI',\n    window_center=40,  # Gi\u00e1 tr\u1ecb c\u1eeda s\u1ed5 ph\u00f9 h\u1ee3p cho CT\n    window_width=400   # \u0110\u1ed9 r\u1ed9ng c\u1eeda s\u1ed5 ph\u00f9 h\u1ee3p cho CT\n)\n\nprint(f\"\u0110\u00e3 l\u01b0u CT t\u1ed5ng h\u1ee3p t\u1ea1i: {output_dir}\")",
   "execution_count": null,
   "outputs": []
  },
  {
   "cell_type": "markdown",
   "metadata": {},
   "source": "## 8. \u0110\u00e1nh gi\u00e1 ch\u1ea5t l\u01b0\u1ee3ng chuy\u1ec3n \u0111\u1ed5i (t\u00f9y ch\u1ecdn)\n\nN\u1ebfu c\u00f3 s\u1eb5n d\u1eef li\u1ec7u CT th\u1ef1c, ch\u00fang ta c\u00f3 th\u1ec3 \u0111\u00e1nh gi\u00e1 ch\u1ea5t l\u01b0\u1ee3ng c\u1ee7a CT t\u1ed5ng h\u1ee3p."
  },
  {
   "cell_type": "code",
   "metadata": {},
   "source": "# Ki\u1ec3m tra xem c\u00f3 d\u1eef li\u1ec7u CT th\u1ef1c hay kh\u00f4ng\nreal_ct_dir = '../data/test/ct'\nif os.path.exists(real_ct_dir):\n    # T\u1ea3i d\u1eef li\u1ec7u CT th\u1ef1c\n    real_ct, real_ct_metadata = load_dicom_series(real_ct_dir)\n    print(f\"K\u00edch th\u01b0\u1edbc kh\u1ed1i CT th\u1ef1c: {real_ct.shape}\")\n    \n    # \u0110\u1ea3m b\u1ea3o CT th\u1ef1c v\u00e0 CT t\u1ed5ng h\u1ee3p c\u00f3 c\u00f9ng k\u00edch th\u01b0\u1edbc\n    if real_ct.shape == synthetic_ct_hu.shape:\n        # T\u00ednh to\u00e1n c\u00e1c ch\u1ec9 s\u1ed1 \u0111\u00e1nh gi\u00e1\n        from utils.metrics import calculate_mae, calculate_psnr, calculate_ssim\n        \n        mae = calculate_mae(real_ct, synthetic_ct_hu)\n        psnr = calculate_psnr(real_ct, synthetic_ct_hu)\n        ssim = calculate_ssim(real_ct, synthetic_ct_hu)\n        \n        print(f\"\u0110\u00e1nh gi\u00e1 ch\u1ea5t l\u01b0\u1ee3ng CT t\u1ed5ng h\u1ee3p:\")\n        print(f\"MAE: {mae:.2f} HU\")\n        print(f\"PSNR: {psnr:.2f} dB\")\n        print(f\"SSIM: {ssim:.4f}\")\n        \n        # So s\u00e1nh CT th\u1ef1c v\u00e0 CT t\u1ed5ng h\u1ee3p\n        for slice_idx in range(middle_slice-4, middle_slice+5, 2):\n            compare_images(\n                real_ct[slice_idx], synthetic_ct_hu[slice_idx],\n                titles=[f\"CT th\u1ef1c (l\u00e1t c\u1eaft {slice_idx})\", f\"CT t\u1ed5ng h\u1ee3p (l\u00e1t c\u1eaft {slice_idx})\"],\n                cmaps=[\"gray\", \"gray\"],\n                vmin_vmax=[(-200, 400), (-200, 400)]\n            )\n            \n            # Hi\u1ec3n th\u1ecb b\u1ea3n \u0111\u1ed3 sai s\u1ed1\n            error_map = np.abs(real_ct[slice_idx] - synthetic_ct_hu[slice_idx])\n            plt.figure(figsize=(8, 6))\n            plt.imshow(error_map, cmap='hot', vmin=0, vmax=200)\n            plt.colorbar(label='Sai s\u1ed1 tuy\u1ec7t \u0111\u1ed1i (HU)')\n            plt.title(f\"B\u1ea3n \u0111\u1ed3 sai s\u1ed1 (l\u00e1t c\u1eaft {slice_idx})\")\n            plt.axis('off')\n            plt.show()\n    else:\n        print(f\"K\u00edch th\u01b0\u1edbc kh\u00f4ng kh\u1edbp: CT th\u1ef1c {real_ct.shape} vs CT t\u1ed5ng h\u1ee3p {synthetic_ct_hu.shape}\")\nelse:\n    print(f\"Kh\u00f4ng t\u00ecm th\u1ea5y d\u1eef li\u1ec7u CT th\u1ef1c t\u1ea1i {real_ct_dir}\")\n    print(\"B\u1ecf qua b\u01b0\u1edbc \u0111\u00e1nh gi\u00e1 ch\u1ea5t l\u01b0\u1ee3ng\")",
   "execution_count": null,
   "outputs": []
  },
  {
   "cell_type": "markdown",
   "metadata": {},
   "source": "## K\u1ebft lu\u1eadn\n\nTrong notebook n\u00e0y, ch\u00fang ta \u0111\u00e3 th\u1ef1c hi\u1ec7n c\u00e1c b\u01b0\u1edbc sau:\n1. T\u1ea3i m\u00f4 h\u00ecnh CycleGAN \u0111\u00e3 \u0111\u01b0\u1ee3c hu\u1ea5n luy\u1ec7n\n2. Chu\u1ea9n b\u1ecb d\u1eef li\u1ec7u MRI \u0111\u1ea7u v\u00e0o\n3. Chuy\u1ec3n \u0111\u1ed5i MRI sang CT t\u1ed5ng h\u1ee3p\n4. Hi\u1ec3n th\u1ecb v\u00e0 so s\u00e1nh k\u1ebft qu\u1ea3\n5. Ph\u00e2n \u0111o\u1ea1n c\u00e1c lo\u1ea1i m\u00f4 d\u1ef1a tr\u00ean gi\u00e1 tr\u1ecb HU\n6. L\u01b0u k\u1ebft qu\u1ea3 d\u01b0\u1edbi d\u1ea1ng t\u1ec7p DICOM\n7. \u0110\u00e1nh gi\u00e1 ch\u1ea5t l\u01b0\u1ee3ng chuy\u1ec3n \u0111\u1ed5i (n\u1ebfu c\u00f3 d\u1eef li\u1ec7u CT th\u1ef1c)\n\nCT t\u1ed5ng h\u1ee3p t\u1eeb MRI c\u00f3 th\u1ec3 \u0111\u01b0\u1ee3c s\u1eed d\u1ee5ng trong l\u1eadp k\u1ebf ho\u1ea1ch x\u1ea1 tr\u1ecb, gi\u00fap gi\u1ea3m li\u1ec1u l\u01b0\u1ee3ng b\u1ee9c x\u1ea1 cho b\u1ec7nh nh\u00e2n v\u00e0 c\u1ea3i thi\u1ec7n quy tr\u00ecnh l\u00e2m s\u00e0ng."
  }
 ],
 "metadata": {
  "kernelspec": {
   "display_name": "Python 3",
   "language": "python",
   "name": "python3"
  }
 },
 "nbformat": 4,
 "nbformat_minor": 5
}