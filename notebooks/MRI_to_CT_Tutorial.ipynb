{
 "cells": [
  {
   "cell_type": "markdown",
   "metadata": {},
   "source": [
    "# Hướng dẫn chuyển đổi MRI sang CT tổng hợp\n",
    "\n",
    "Notebook này hướng dẫn cách sử dụng mô hình CycleGAN đã được huấn luyện để chuyển đổi ảnh MRI sang ảnh CT tổng hợp cho mục đích xạ trị."
   ]
  },
  {
   "cell_type": "markdown",
   "id": "c950ee74",
   "metadata": {},
   "source": [
    "## Nội dung\n",
    "1. Thiết lập môi trường\n",
    "2. Tải mô hình đã huấn luyện\n",
    "3. Chuẩn bị dữ liệu MRI\n",
    "4. Chuyển đổi MRI sang CT tổng hợp\n",
    "5. Hiển thị kết quả\n",
    "6. Phân đoạn mô dựa trên đơn vị Hounsfield (HU)\n",
    "7. Lưu kết quả\n",
    "8. Đánh giá chất lượng chuyển đổi (tùy chọn)"
   ]
  },
  {
   "cell_type": "markdown",
   "id": "58316e04",
   "metadata": {},
   "source": [
    "## 1. Thiết lập môi trường\n",
    "\n",
    "Đầu tiên, chúng ta cần cài đặt và nhập các thư viện cần thiết."
   ]
  },
  {
   "cell_type": "code",
   "execution_count": null,
   "id": "6cc10a80",
   "metadata": {},
   "outputs": [],
   "source": [
    "# Cài đặt các thư viện cần thiết (nếu chưa có)\n",
    "# !pip install torch torchvision numpy matplotlib pydicom nibabel SimpleITK scikit-image pyyaml\n",
    "\n",
    "import os\n",
    "import sys\n",
    "import yaml\n",
    "import numpy as np\n",
    "import matplotlib.pyplot as plt\n",
    "import torch\n",
    "from pathlib import Path\n",
    "\n",
    "# Thêm thư mục gốc vào đường dẫn để có thể nhập các module\n",
    "sys.path.append('..')\n",
    "\n",
    "# Nhập các module cần thiết từ dự án\n",
    "from models.cycle_gan import CycleGANModel\n",
    "from utils.data_utils import load_dicom_series, save_dicom_series, normalize_image\n",
    "from utils.visualization import display_slices, compare_images\n",
    "from utils.config import load_config\n",
    "\n",
    "# Kiểm tra GPU\n",
    "device = torch.device('cuda' if torch.cuda.is_available() else 'cpu')\n",
    "print(f\"Sử dụng thiết bị: {device}\")"
   ]
  },
  {
   "cell_type": "markdown",
   "id": "512eebfd",
   "metadata": {},
   "source": [
    "## 2. Tải cấu hình và mô hình đã huấn luyện\n",
    "\n",
    "Tiếp theo, chúng ta sẽ tải cấu hình và mô hình CycleGAN đã được huấn luyện."
   ]
  },
  {
   "cell_type": "code",
   "execution_count": null,
   "id": "601d5685",
   "metadata": {},
   "outputs": [],
   "source": [
    "# Tải cấu hình\n",
    "config_path = '../configs/default.yaml'\n",
    "config = load_config(config_path)\n",
    "\n",
    "# Đường dẫn đến checkpoint mô hình\n",
    "checkpoint_path = '../data/output/models/checkpoints/best_model.pth'\n",
    "\n",
    "# Khởi tạo mô hình\n",
    "model = CycleGANModel(\n",
    "    input_channels=config['model']['input_channels'],\n",
    "    output_channels=config['model']['output_channels'],\n",
    "    generator_filters=config['model']['generator_filters'],\n",
    "    discriminator_filters=config['model']['discriminator_filters'],\n",
    "    n_residual_blocks=config['model']['n_residual_blocks']\n",
    ")\n",
    "\n",
    "# Tải trọng số mô hình\n",
    "if os.path.exists(checkpoint_path):\n",
    "    checkpoint = torch.load(checkpoint_path, map_location=device)\n",
    "    model.load_state_dict(checkpoint['model_state_dict'])\n",
    "    print(f\"Đã tải mô hình từ epoch {checkpoint['epoch']}\")\n",
    "else:\n",
    "    print(f\"Không tìm thấy checkpoint tại {checkpoint_path}\")\n",
    "    print(\"Vui lòng huấn luyện mô hình trước hoặc tải mô hình đã huấn luyện\")\n",
    "\n",
    "model.to(device)\n",
    "model.eval()  # Đặt mô hình ở chế độ đánh giá"
   ]
  }
 ],
 "metadata": {
  "kernelspec": {
   "display_name": "Python 3",
   "language": "python",
   "name": "python3"
  }
 },
 "nbformat": 4,
 "nbformat_minor": 5
}
